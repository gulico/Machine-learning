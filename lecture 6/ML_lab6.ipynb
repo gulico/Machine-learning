{
 "cells": [
  {
   "cell_type": "markdown",
   "metadata": {
    "colab_type": "text",
    "id": "DuJuY8ucCW2t"
   },
   "source": [
    "# Experiment\n",
    "classification task of Cardiac Arrhythmia Database"
   ]
  },
  {
   "cell_type": "markdown",
   "metadata": {
    "colab_type": "text",
    "id": "LAiTGMQ_oEic"
   },
   "source": [
    "## Data preprocessing"
   ]
  },
  {
   "cell_type": "code",
   "execution_count": 1,
   "metadata": {
    "colab": {},
    "colab_type": "code",
    "id": "k66EMaiToyMm"
   },
   "outputs": [],
   "source": [
    "#Load the necessary python libraries\n",
    "import numpy as np\n",
    "import pandas as pd\n",
    "import matplotlib.pyplot as plt\n",
    "from sklearn import linear_model\n",
    "plt.style.use('ggplot')"
   ]
  },
  {
   "cell_type": "code",
   "execution_count": 2,
   "metadata": {
    "colab": {
     "base_uri": "https://localhost:8080/",
     "height": 253
    },
    "colab_type": "code",
    "executionInfo": {
     "elapsed": 3054,
     "status": "ok",
     "timestamp": 1588482088082,
     "user": {
      "displayName": "767293861@qq.com",
      "photoUrl": "",
      "userId": "14715229090956798740"
     },
     "user_tz": -480
    },
    "id": "hru3zzYmz8xM",
    "outputId": "6691850f-0380-4ff1-ea72-c226850fd492"
   },
   "outputs": [
    {
     "data": {
      "text/html": [
       "<div>\n",
       "<style scoped>\n",
       "    .dataframe tbody tr th:only-of-type {\n",
       "        vertical-align: middle;\n",
       "    }\n",
       "\n",
       "    .dataframe tbody tr th {\n",
       "        vertical-align: top;\n",
       "    }\n",
       "\n",
       "    .dataframe thead th {\n",
       "        text-align: right;\n",
       "    }\n",
       "</style>\n",
       "<table border=\"1\" class=\"dataframe\">\n",
       "  <thead>\n",
       "    <tr style=\"text-align: right;\">\n",
       "      <th></th>\n",
       "      <th>0</th>\n",
       "      <th>1</th>\n",
       "      <th>2</th>\n",
       "      <th>3</th>\n",
       "      <th>4</th>\n",
       "      <th>5</th>\n",
       "      <th>6</th>\n",
       "      <th>7</th>\n",
       "      <th>8</th>\n",
       "      <th>9</th>\n",
       "      <th>...</th>\n",
       "      <th>270</th>\n",
       "      <th>271</th>\n",
       "      <th>272</th>\n",
       "      <th>273</th>\n",
       "      <th>274</th>\n",
       "      <th>275</th>\n",
       "      <th>276</th>\n",
       "      <th>277</th>\n",
       "      <th>278</th>\n",
       "      <th>279</th>\n",
       "    </tr>\n",
       "  </thead>\n",
       "  <tbody>\n",
       "    <tr>\n",
       "      <th>0</th>\n",
       "      <td>75</td>\n",
       "      <td>0</td>\n",
       "      <td>190</td>\n",
       "      <td>80</td>\n",
       "      <td>91</td>\n",
       "      <td>193</td>\n",
       "      <td>371</td>\n",
       "      <td>174</td>\n",
       "      <td>121</td>\n",
       "      <td>-16</td>\n",
       "      <td>...</td>\n",
       "      <td>0.0</td>\n",
       "      <td>9.0</td>\n",
       "      <td>-0.9</td>\n",
       "      <td>0.0</td>\n",
       "      <td>0.0</td>\n",
       "      <td>0.9</td>\n",
       "      <td>2.9</td>\n",
       "      <td>23.3</td>\n",
       "      <td>49.4</td>\n",
       "      <td>8</td>\n",
       "    </tr>\n",
       "    <tr>\n",
       "      <th>1</th>\n",
       "      <td>56</td>\n",
       "      <td>1</td>\n",
       "      <td>165</td>\n",
       "      <td>64</td>\n",
       "      <td>81</td>\n",
       "      <td>174</td>\n",
       "      <td>401</td>\n",
       "      <td>149</td>\n",
       "      <td>39</td>\n",
       "      <td>25</td>\n",
       "      <td>...</td>\n",
       "      <td>0.0</td>\n",
       "      <td>8.5</td>\n",
       "      <td>0.0</td>\n",
       "      <td>0.0</td>\n",
       "      <td>0.0</td>\n",
       "      <td>0.2</td>\n",
       "      <td>2.1</td>\n",
       "      <td>20.4</td>\n",
       "      <td>38.8</td>\n",
       "      <td>6</td>\n",
       "    </tr>\n",
       "    <tr>\n",
       "      <th>2</th>\n",
       "      <td>54</td>\n",
       "      <td>0</td>\n",
       "      <td>172</td>\n",
       "      <td>95</td>\n",
       "      <td>138</td>\n",
       "      <td>163</td>\n",
       "      <td>386</td>\n",
       "      <td>185</td>\n",
       "      <td>102</td>\n",
       "      <td>96</td>\n",
       "      <td>...</td>\n",
       "      <td>0.0</td>\n",
       "      <td>9.5</td>\n",
       "      <td>-2.4</td>\n",
       "      <td>0.0</td>\n",
       "      <td>0.0</td>\n",
       "      <td>0.3</td>\n",
       "      <td>3.4</td>\n",
       "      <td>12.3</td>\n",
       "      <td>49.0</td>\n",
       "      <td>10</td>\n",
       "    </tr>\n",
       "    <tr>\n",
       "      <th>3</th>\n",
       "      <td>55</td>\n",
       "      <td>0</td>\n",
       "      <td>175</td>\n",
       "      <td>94</td>\n",
       "      <td>100</td>\n",
       "      <td>202</td>\n",
       "      <td>380</td>\n",
       "      <td>179</td>\n",
       "      <td>143</td>\n",
       "      <td>28</td>\n",
       "      <td>...</td>\n",
       "      <td>0.0</td>\n",
       "      <td>12.2</td>\n",
       "      <td>-2.2</td>\n",
       "      <td>0.0</td>\n",
       "      <td>0.0</td>\n",
       "      <td>0.4</td>\n",
       "      <td>2.6</td>\n",
       "      <td>34.6</td>\n",
       "      <td>61.6</td>\n",
       "      <td>1</td>\n",
       "    </tr>\n",
       "    <tr>\n",
       "      <th>4</th>\n",
       "      <td>75</td>\n",
       "      <td>0</td>\n",
       "      <td>190</td>\n",
       "      <td>80</td>\n",
       "      <td>88</td>\n",
       "      <td>181</td>\n",
       "      <td>360</td>\n",
       "      <td>177</td>\n",
       "      <td>103</td>\n",
       "      <td>-16</td>\n",
       "      <td>...</td>\n",
       "      <td>0.0</td>\n",
       "      <td>13.1</td>\n",
       "      <td>-3.6</td>\n",
       "      <td>0.0</td>\n",
       "      <td>0.0</td>\n",
       "      <td>-0.1</td>\n",
       "      <td>3.9</td>\n",
       "      <td>25.4</td>\n",
       "      <td>62.8</td>\n",
       "      <td>7</td>\n",
       "    </tr>\n",
       "  </tbody>\n",
       "</table>\n",
       "<p>5 rows × 280 columns</p>\n",
       "</div>"
      ],
      "text/plain": [
       "   0    1    2    3    4    5    6    7    8    9    ...  270   271  272  273  \\\n",
       "0   75    0  190   80   91  193  371  174  121  -16  ...  0.0   9.0 -0.9  0.0   \n",
       "1   56    1  165   64   81  174  401  149   39   25  ...  0.0   8.5  0.0  0.0   \n",
       "2   54    0  172   95  138  163  386  185  102   96  ...  0.0   9.5 -2.4  0.0   \n",
       "3   55    0  175   94  100  202  380  179  143   28  ...  0.0  12.2 -2.2  0.0   \n",
       "4   75    0  190   80   88  181  360  177  103  -16  ...  0.0  13.1 -3.6  0.0   \n",
       "\n",
       "   274  275  276   277   278  279  \n",
       "0  0.0  0.9  2.9  23.3  49.4    8  \n",
       "1  0.0  0.2  2.1  20.4  38.8    6  \n",
       "2  0.0  0.3  3.4  12.3  49.0   10  \n",
       "3  0.0  0.4  2.6  34.6  61.6    1  \n",
       "4  0.0 -0.1  3.9  25.4  62.8    7  \n",
       "\n",
       "[5 rows x 280 columns]"
      ]
     },
     "execution_count": 2,
     "metadata": {},
     "output_type": "execute_result"
    }
   ],
   "source": [
    "#Load the dataset\n",
    "df = pd.read_csv('data/arrhythmia.data',header=None)\n",
    "\n",
    "#Print the first 5 rows of the dataframe.\n",
    "df.head()"
   ]
  },
  {
   "cell_type": "code",
   "execution_count": 3,
   "metadata": {
    "colab": {
     "base_uri": "https://localhost:8080/",
     "height": 34
    },
    "colab_type": "code",
    "executionInfo": {
     "elapsed": 3046,
     "status": "ok",
     "timestamp": 1588482088083,
     "user": {
      "displayName": "767293861@qq.com",
      "photoUrl": "",
      "userId": "14715229090956798740"
     },
     "user_tz": -480
    },
    "id": "yaA1PWqy0htX",
    "outputId": "d70b5f97-5e8b-4b95-c85b-013ebc445a12"
   },
   "outputs": [
    {
     "data": {
      "text/plain": [
       "(452, 280)"
      ]
     },
     "execution_count": 3,
     "metadata": {},
     "output_type": "execute_result"
    }
   ],
   "source": [
    "#Let's observe the shape of the dataframe.\n",
    "df.shape"
   ]
  },
  {
   "cell_type": "code",
   "execution_count": 4,
   "metadata": {
    "colab": {},
    "colab_type": "code",
    "id": "PeiJwD_7055L"
   },
   "outputs": [],
   "source": [
    "X = pd.concat([df.iloc[:,:12],df.iloc[:,22:27], df.iloc[:,269:278]], axis=1, sort=False).values\n",
    "y = df.iloc[:,279].values"
   ]
  },
  {
   "cell_type": "markdown",
   "metadata": {
    "colab_type": "text",
    "id": "BpRxumXR5L2j"
   },
   "source": [
    "## Feature Selection"
   ]
  },
  {
   "cell_type": "code",
   "execution_count": 5,
   "metadata": {
    "colab": {
     "base_uri": "https://localhost:8080/",
     "height": 255
    },
    "colab_type": "code",
    "executionInfo": {
     "elapsed": 3037,
     "status": "ok",
     "timestamp": 1588482088083,
     "user": {
      "displayName": "767293861@qq.com",
      "photoUrl": "",
      "userId": "14715229090956798740"
     },
     "user_tz": -480
    },
    "id": "NEw2MwQptm_A",
    "outputId": "47e142d9-fa2d-45e5-f582-473c63dd1280"
   },
   "outputs": [
    {
     "name": "stdout",
     "output_type": "stream",
     "text": [
      "[[ 75.    0.  190.  ...  13.5   9.    8. ]\n",
      " [ 56.    1.  165.  ...  11.    8.5   6. ]\n",
      " [ 54.    0.  172.  ...  11.1   9.5  10. ]\n",
      " ...\n",
      " [ 36.    0.  166.  ...  22.   16.3   2. ]\n",
      " [ 32.    1.  155.  ...  15.3  12.    1. ]\n",
      " [ 78.    1.  160.  ...  12.5  10.4   1. ]]\n",
      "[[20. 48. 80. ...  0.  0.  0.]\n",
      " [ 0.  0.  0. ...  0.  0.  0.]\n",
      " [52.  0.  0. ...  0.  0.  0.]\n",
      " ...\n",
      " [56.  0.  0. ...  0.  0.  0.]\n",
      " [ 0. 12.  0. ...  0.  0.  0.]\n",
      " [ 0.  0.  0. ...  0.  0.  0.]]\n"
     ]
    }
   ],
   "source": [
    "from sklearn.feature_selection import SelectKBest\n",
    "from sklearn.feature_selection import chi2\n",
    "from sklearn.feature_selection import VarianceThreshold\n",
    "\n",
    "# Delete column with '?'\n",
    "df1=df[~df[:].isin(['?'])]\n",
    "df1 = df1.dropna(axis=1)\n",
    "# Delete columns with values less than 0\n",
    "df1[df1 < 0] = np.nan\n",
    "df1 = df1.dropna(axis=1)\n",
    "\n",
    "sel = VarianceThreshold(threshold=(.9 * (1 - .9)))\n",
    "df1 = sel.fit_transform(df1)\n",
    "print(df1)\n",
    "\n",
    "# Univariate feature selection\n",
    "X_old = df1[:,0:94]\n",
    "y = df.iloc[:,279].values\n",
    "for i,val in enumerate(y):\n",
    "    if val == 1:\n",
    "        y[i] = 1\n",
    "    elif val > 1 and val < 16:\n",
    "        y[i] = 2\n",
    "    else:\n",
    "        y[i] = 3\n",
    "y = y.astype('int')\n",
    "\n",
    "X = SelectKBest(chi2, k=10).fit_transform(X_old, y)\n",
    "print(X)"
   ]
  },
  {
   "cell_type": "code",
   "execution_count": 45,
   "metadata": {
    "colab": {},
    "colab_type": "code",
    "id": "IrHK8ZeFA4uQ"
   },
   "outputs": [],
   "source": [
    "#importing train_test_split\n",
    "from sklearn.model_selection import train_test_split\n",
    "\n",
    "X_train,X_test,y_train,y_test = train_test_split(X,y,test_size=0.2,random_state=42)\n",
    "\n",
    "X_traindf = pd.DataFrame(X_train)\n",
    "y_traindf = pd.DataFrame(y_train)\n",
    "trainData = pd.concat([X_traindf,y_traindf], axis=1, sort=False)\n",
    "\n",
    "new_col = ['0', '1','2','3','4','5','6','7','8','9', 'lable']\n",
    "trainData.columns = new_col\n",
    "\n",
    "filter1 = trainData[\"lable\"].isin([1])\n",
    "trainData_1 = trainData[filter1].values\n",
    "\n",
    "filter2 = trainData[\"lable\"].isin([2])\n",
    "trainData_2 = trainData[filter2].values\n",
    "\n",
    "filter3 = trainData[\"lable\"].isin([3])\n",
    "trainData_3 = trainData[filter3].values"
   ]
  },
  {
   "cell_type": "markdown",
   "metadata": {
    "colab_type": "text",
    "id": "2i6w4fDCNqq6"
   },
   "source": [
    "## Draw histograms for features"
   ]
  },
  {
   "cell_type": "code",
   "execution_count": 7,
   "metadata": {
    "colab": {
     "base_uri": "https://localhost:8080/",
     "height": 663
    },
    "colab_type": "code",
    "executionInfo": {
     "elapsed": 11405,
     "status": "ok",
     "timestamp": 1588482096459,
     "user": {
      "displayName": "767293861@qq.com",
      "photoUrl": "",
      "userId": "14715229090956798740"
     },
     "user_tz": -480
    },
    "id": "jndoARv8Whnf",
    "outputId": "0150b504-5b3a-45c4-9a31-99b831b1bb55"
   },
   "outputs": [
    {
     "data": {
      "image/png": "[encoded data removed]",
      "text/plain": [
       "<Figure size 1440x720 with 8 Axes>"
      ]
     },
     "metadata": {
      "needs_background": "light"
     },
     "output_type": "display_data"
    }
   ],
   "source": [
    "plt.figure(figsize=(20, 10))\n",
    "plt.subplot(241)\n",
    "plt.hist(X[:,0])\n",
    "plt.subplot(242)\n",
    "plt.hist(X[:,1])\n",
    "plt.subplot(243)\n",
    "plt.hist(X[:,2])\n",
    "plt.subplot(244)\n",
    "plt.hist(X[:,3])\n",
    "\n",
    "plt.subplot(245)\n",
    "plt.hist(X[:,4])\n",
    "plt.subplot(246)\n",
    "plt.hist(X[:,5])\n",
    "plt.subplot(247)\n",
    "plt.hist(X[:,6])\n",
    "plt.subplot(248)\n",
    "plt.hist(X[:,7])\n",
    "plt.suptitle('Histograms for Features')\n",
    "plt.show()"
   ]
  },
  {
   "cell_type": "code",
   "execution_count": 8,
   "metadata": {
    "colab": {
     "base_uri": "https://localhost:8080/",
     "height": 663
    },
    "colab_type": "code",
    "executionInfo": {
     "elapsed": 14913,
     "status": "ok",
     "timestamp": 1588482099975,
     "user": {
      "displayName": "767293861@qq.com",
      "photoUrl": "",
      "userId": "14715229090956798740"
     },
     "user_tz": -480
    },
    "id": "Gx6XQBPd1S-d",
    "outputId": "3661c4e8-cfe9-4f71-b346-885cd1690e8e"
   },
   "outputs": [
    {
     "data": {
      "image/png": "[encoded data removed]",
      "text/plain": [
       "<Figure size 1440x720 with 8 Axes>"
      ]
     },
     "metadata": {
      "needs_background": "light"
     },
     "output_type": "display_data"
    }
   ],
   "source": [
    "plt.figure(figsize=(20, 10))\n",
    "plt.subplot(241)\n",
    "plt.scatter(X[:,0],y)\n",
    "plt.subplot(242)\n",
    "plt.scatter(X[:,1],y)\n",
    "plt.subplot(243)\n",
    "plt.scatter(X[:,2],y)\n",
    "plt.subplot(244)\n",
    "plt.scatter(X[:,3],y)\n",
    "plt.subplot(245)\n",
    "plt.scatter(X[:,4],y)\n",
    "plt.subplot(246)\n",
    "plt.scatter(X[:,5],y)\n",
    "plt.subplot(247)\n",
    "plt.scatter(X[:,6],y)\n",
    "plt.subplot(248)\n",
    "plt.scatter(X[:,7],y)\n",
    "plt.suptitle('scatter plot matrix of features')\n",
    "plt.show()"
   ]
  },
  {
   "cell_type": "markdown",
   "metadata": {},
   "source": [
    "## Naive Bayes"
   ]
  },
  {
   "cell_type": "code",
   "execution_count": 9,
   "metadata": {},
   "outputs": [
    {
     "data": {
      "text/plain": [
       "0.7032967032967034"
      ]
     },
     "execution_count": 9,
     "metadata": {},
     "output_type": "execute_result"
    }
   ],
   "source": [
    "from sklearn.naive_bayes import GaussianNB\n",
    "\n",
    "clf = GaussianNB().fit(X_train, y_train)\n",
    "clf.score(X_test, y_test)"
   ]
  },
  {
   "cell_type": "code",
   "execution_count": 10,
   "metadata": {},
   "outputs": [
    {
     "data": {
      "text/plain": [
       "0.6373626373626373"
      ]
     },
     "execution_count": 10,
     "metadata": {},
     "output_type": "execute_result"
    }
   ],
   "source": [
    "from sklearn.naive_bayes import MultinomialNB \n",
    "\n",
    "clf = MultinomialNB().fit(X_train, y_train)\n",
    "clf.score(X_test, y_test)"
   ]
  },
  {
   "cell_type": "code",
   "execution_count": 11,
   "metadata": {},
   "outputs": [
    {
     "data": {
      "text/plain": [
       "0.6703296703296703"
      ]
     },
     "execution_count": 11,
     "metadata": {},
     "output_type": "execute_result"
    }
   ],
   "source": [
    "from sklearn.naive_bayes import ComplementNB\n",
    "\n",
    "clf = ComplementNB().fit(X_train, y_train)\n",
    "clf.score(X_test, y_test)"
   ]
  },
  {
   "cell_type": "code",
   "execution_count": 12,
   "metadata": {},
   "outputs": [
    {
     "data": {
      "text/plain": [
       "0.7142857142857143"
      ]
     },
     "execution_count": 12,
     "metadata": {},
     "output_type": "execute_result"
    }
   ],
   "source": [
    "from sklearn.naive_bayes import BernoulliNB \n",
    "\n",
    "clf = BernoulliNB().fit(X_train, y_train)\n",
    "clf.score(X_test, y_test)"
   ]
  },
  {
   "cell_type": "markdown",
   "metadata": {},
   "source": [
    "## Writing Naive Bayes with Kernel Density Estimation"
   ]
  },
  {
   "cell_type": "code",
   "execution_count": 29,
   "metadata": {
    "colab": {
     "base_uri": "https://localhost:8080/",
     "height": 236
    },
    "colab_type": "code",
    "executionInfo": {
     "elapsed": 4567,
     "status": "error",
     "timestamp": 1588486380154,
     "user": {
      "displayName": "767293861@qq.com",
      "photoUrl": "",
      "userId": "14715229090956798740"
     },
     "user_tz": -480
    },
    "id": "x0iU6PYeoWmu",
    "outputId": "ea877d8b-595d-4a22-d46b-ea626a1e6b4d"
   },
   "outputs": [],
   "source": [
    "from sklearn.neighbors import KernelDensity\n",
    "\n",
    "kde = KernelDensity(kernel='gaussian', bandwidth=0.2).fit(trainData_1[:,0:10])\n",
    "Probability_y1 = np.sum(y_train==1)/(np.sum(y_train==1)+np.sum(y_train==2)+np.sum(y_train==3))\n",
    "Probability_y1 *= abs(kde.score_samples(X_test))\n",
    "\n",
    "kde = KernelDensity(kernel='gaussian', bandwidth=0.2).fit(trainData_2[:,0:10])\n",
    "Probability_y2 = np.sum(y_train==2)/(np.sum(y_train==1)+np.sum(y_train==2)+np.sum(y_train==3))\n",
    "Probability_y2 *= abs(kde.score_samples(X_test))\n",
    "\n",
    "kde = KernelDensity(kernel='gaussian', bandwidth=0.2).fit(trainData_3[:,0:10])\n",
    "Probability_y3 = np.sum(y_train==3)/(np.sum(y_train==1)+np.sum(y_train==2)+np.sum(y_train==3))\n",
    "Probability_y3 *= abs(kde.score_samples(X_test))"
   ]
  },
  {
   "cell_type": "code",
   "execution_count": 49,
   "metadata": {},
   "outputs": [
    {
     "name": "stdout",
     "output_type": "stream",
     "text": [
      "0.31868131868131866\n"
     ]
    }
   ],
   "source": [
    "y_predict = [1]*91\n",
    "right = 0\n",
    "num = len(y_test) \n",
    "for i in range(len(y_test)):\n",
    "    if Probability_y1[i] > Probability_y2[i]:\n",
    "        y_predict[i] = 2\n",
    "        if Probability_y2[i] >Probability_y3[i]:\n",
    "            y_predict[i] = 3\n",
    "    else:\n",
    "        y_predict[i] = 1\n",
    "        if Probability_y1[i] > Probability_y3[i]:\n",
    "            y_predict[i] = 3\n",
    "    if(y_predict[i]==y_test[i]):\n",
    "        right+=1\n",
    "        \n",
    "print(right/num)"
   ]
  },
  {
   "cell_type": "markdown",
   "metadata": {},
   "source": [
    "## Draw likelihood plot"
   ]
  },
  {
   "cell_type": "code",
   "execution_count": 50,
   "metadata": {},
   "outputs": [
    {
     "data": {
      "text/plain": [
       "array([[0.41869615, 0.56847855, 0.01282529],\n",
       "       [0.81733036, 0.15040951, 0.03226013],\n",
       "       [0.13903882, 0.78483616, 0.07612502],\n",
       "       ...,\n",
       "       [0.42320196, 0.55209831, 0.02469972],\n",
       "       [0.731506  , 0.23779885, 0.03069516],\n",
       "       [0.81733036, 0.15040951, 0.03226013]])"
      ]
     },
     "execution_count": 50,
     "metadata": {},
     "output_type": "execute_result"
    }
   ],
   "source": [
    "asd=clf.predict_proba(X)\n",
    "asd"
   ]
  },
  {
   "cell_type": "code",
   "execution_count": 52,
   "metadata": {},
   "outputs": [
    {
     "data": {
      "image/png": "[encoded data removed]",
      "text/plain": [
       "<Figure size 432x288 with 1 Axes>"
      ]
     },
     "metadata": {
      "needs_background": "light"
     },
     "output_type": "display_data"
    },
    {
     "data": {
      "image/png": "[encoded data removed]",
      "text/plain": [
       "<Figure size 432x288 with 1 Axes>"
      ]
     },
     "metadata": {
      "needs_background": "light"
     },
     "output_type": "display_data"
    }
   ],
   "source": [
    "value=[]\n",
    "index=[]\n",
    "for i,er in enumerate(asd):\n",
    "    value.append(np.max(er))\n",
    "    index.append(i)\n",
    "    \n",
    "plt.plot(index,value)\n",
    "plt.show()\n",
    "value.sort(reverse=True)\n",
    "plt.plot(index,value,color='blue')#likelihood plot\n",
    "plt.show()"
   ]
  },
  {
   "cell_type": "markdown",
   "metadata": {},
   "source": [
    "# Report"
   ]
  },
  {
   "cell_type": "markdown",
   "metadata": {},
   "source": [
    "## Q: What features are most useful for solving the problem and why, how features are distributed in the data:"
   ]
  },
  {
   "cell_type": "markdown",
   "metadata": {},
   "source": [
    "First, I removed the features with low variance, for example, a feature is mostly 0, then this feature is meaningless. Secondly, some vacant data is meaningless. Finally, the chi-square test is used to test the correlation of qualitative independent variables to qualitative dependent variables, leaving only the top 10 features that are closely related to the label."
   ]
  },
  {
   "cell_type": "markdown",
   "metadata": {},
   "source": [
    "## Q: Try to change parameters of training to achieve better results"
   ]
  },
  {
   "cell_type": "markdown",
   "metadata": {},
   "source": [
    "BernoulliNB model has highest accuracy about 71%"
   ]
  }
 ],
 "metadata": {
  "colab": {
   "authorship_tag": "ABX9TyM1IG3GhrMtBuS5Cb9V5wCg",
   "collapsed_sections": [],
   "mount_file_id": "1gJYbEVW75IkTQnIfHEJ1-2rAcySbiNiZ",
   "name": "ML_lab6.ipynb",
   "provenance": []
  },
  "kernelspec": {
   "display_name": "Python 3",
   "language": "python",
   "name": "python3"
  },
  "language_info": {
   "codemirror_mode": {
    "name": "ipython",
    "version": 3
   },
   "file_extension": ".py",
   "mimetype": "text/x-python",
   "name": "python",
   "nbconvert_exporter": "python",
   "pygments_lexer": "ipython3",
   "version": "3.7.4"
  },
  "toc": {
   "base_numbering": 1,
   "nav_menu": {},
   "number_sections": true,
   "sideBar": true,
   "skip_h1_title": false,
   "title_cell": "Table of Contents",
   "title_sidebar": "Contents",
   "toc_cell": false,
   "toc_position": {},
   "toc_section_display": true,
   "toc_window_display": false
  }
 },
 "nbformat": 4,
 "nbformat_minor": 1
}
