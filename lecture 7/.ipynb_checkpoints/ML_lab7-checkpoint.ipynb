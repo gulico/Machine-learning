{
 "cells": [
  {
   "cell_type": "markdown",
   "metadata": {
    "colab_type": "text",
    "id": "DuJuY8ucCW2t"
   },
   "source": [
    "# Experiment\n",
    "classification task of Annealing Data"
   ]
  },
  {
   "cell_type": "markdown",
   "metadata": {
    "colab_type": "text",
    "id": "LAiTGMQ_oEic"
   },
   "source": [
    "## Data preprocessing"
   ]
  },
  {
   "cell_type": "code",
   "execution_count": 0,
   "metadata": {
    "colab": {},
    "colab_type": "code",
    "id": "k66EMaiToyMm"
   },
   "outputs": [],
   "source": [
    "#Load the necessary python libraries\n",
    "import numpy as np\n",
    "import pandas as pd\n",
    "import matplotlib.pyplot as plt\n",
    "plt.style.use('ggplot')"
   ]
  },
  {
   "cell_type": "code",
   "execution_count": 0,
   "metadata": {
    "colab": {
     "base_uri": "https://localhost:8080/",
     "height": 204
    },
    "colab_type": "code",
    "executionInfo": {
     "elapsed": 49812,
     "status": "ok",
     "timestamp": 1588935027180,
     "user": {
      "displayName": "767293861@qq.com",
      "photoUrl": "",
      "userId": "14715229090956798740"
     },
     "user_tz": -480
    },
    "id": "hru3zzYmz8xM",
    "outputId": "04ceace4-535b-444e-b96d-4c6887298824"
   },
   "outputs": [
    {
     "data": {
      "text/html": [
       "<div>\n",
       "<style scoped>\n",
       "    .dataframe tbody tr th:only-of-type {\n",
       "        vertical-align: middle;\n",
       "    }\n",
       "\n",
       "    .dataframe tbody tr th {\n",
       "        vertical-align: top;\n",
       "    }\n",
       "\n",
       "    .dataframe thead th {\n",
       "        text-align: right;\n",
       "    }\n",
       "</style>\n",
       "<table border=\"1\" class=\"dataframe\">\n",
       "  <thead>\n",
       "    <tr style=\"text-align: right;\">\n",
       "      <th></th>\n",
       "      <th>0</th>\n",
       "      <th>1</th>\n",
       "      <th>2</th>\n",
       "      <th>3</th>\n",
       "      <th>4</th>\n",
       "      <th>5</th>\n",
       "      <th>6</th>\n",
       "      <th>7</th>\n",
       "      <th>8</th>\n",
       "      <th>9</th>\n",
       "      <th>10</th>\n",
       "      <th>11</th>\n",
       "      <th>12</th>\n",
       "      <th>13</th>\n",
       "      <th>14</th>\n",
       "      <th>15</th>\n",
       "      <th>16</th>\n",
       "      <th>17</th>\n",
       "      <th>18</th>\n",
       "      <th>19</th>\n",
       "      <th>20</th>\n",
       "      <th>21</th>\n",
       "      <th>22</th>\n",
       "      <th>23</th>\n",
       "      <th>24</th>\n",
       "      <th>25</th>\n",
       "      <th>26</th>\n",
       "      <th>27</th>\n",
       "      <th>28</th>\n",
       "      <th>29</th>\n",
       "      <th>30</th>\n",
       "      <th>31</th>\n",
       "      <th>32</th>\n",
       "      <th>33</th>\n",
       "      <th>34</th>\n",
       "      <th>35</th>\n",
       "      <th>36</th>\n",
       "      <th>37</th>\n",
       "      <th>38</th>\n",
       "    </tr>\n",
       "  </thead>\n",
       "  <tbody>\n",
       "    <tr>\n",
       "      <th>0</th>\n",
       "      <td>?</td>\n",
       "      <td>C</td>\n",
       "      <td>A</td>\n",
       "      <td>8</td>\n",
       "      <td>0</td>\n",
       "      <td>?</td>\n",
       "      <td>S</td>\n",
       "      <td>?</td>\n",
       "      <td>0</td>\n",
       "      <td>?</td>\n",
       "      <td>?</td>\n",
       "      <td>G</td>\n",
       "      <td>?</td>\n",
       "      <td>?</td>\n",
       "      <td>?</td>\n",
       "      <td>?</td>\n",
       "      <td>?</td>\n",
       "      <td>?</td>\n",
       "      <td>?</td>\n",
       "      <td>?</td>\n",
       "      <td>?</td>\n",
       "      <td>?</td>\n",
       "      <td>?</td>\n",
       "      <td>?</td>\n",
       "      <td>?</td>\n",
       "      <td>?</td>\n",
       "      <td>?</td>\n",
       "      <td>?</td>\n",
       "      <td>?</td>\n",
       "      <td>?</td>\n",
       "      <td>?</td>\n",
       "      <td>COIL</td>\n",
       "      <td>0.700</td>\n",
       "      <td>610.0</td>\n",
       "      <td>0</td>\n",
       "      <td>?</td>\n",
       "      <td>0</td>\n",
       "      <td>?</td>\n",
       "      <td>3</td>\n",
       "    </tr>\n",
       "    <tr>\n",
       "      <th>1</th>\n",
       "      <td>?</td>\n",
       "      <td>C</td>\n",
       "      <td>R</td>\n",
       "      <td>0</td>\n",
       "      <td>0</td>\n",
       "      <td>?</td>\n",
       "      <td>S</td>\n",
       "      <td>2</td>\n",
       "      <td>0</td>\n",
       "      <td>?</td>\n",
       "      <td>?</td>\n",
       "      <td>E</td>\n",
       "      <td>?</td>\n",
       "      <td>?</td>\n",
       "      <td>?</td>\n",
       "      <td>?</td>\n",
       "      <td>?</td>\n",
       "      <td>?</td>\n",
       "      <td>?</td>\n",
       "      <td>?</td>\n",
       "      <td>?</td>\n",
       "      <td>?</td>\n",
       "      <td>?</td>\n",
       "      <td>?</td>\n",
       "      <td>?</td>\n",
       "      <td>?</td>\n",
       "      <td>?</td>\n",
       "      <td>Y</td>\n",
       "      <td>?</td>\n",
       "      <td>?</td>\n",
       "      <td>?</td>\n",
       "      <td>COIL</td>\n",
       "      <td>3.200</td>\n",
       "      <td>610.0</td>\n",
       "      <td>0</td>\n",
       "      <td>?</td>\n",
       "      <td>0</td>\n",
       "      <td>?</td>\n",
       "      <td>3</td>\n",
       "    </tr>\n",
       "    <tr>\n",
       "      <th>2</th>\n",
       "      <td>?</td>\n",
       "      <td>C</td>\n",
       "      <td>R</td>\n",
       "      <td>0</td>\n",
       "      <td>0</td>\n",
       "      <td>?</td>\n",
       "      <td>S</td>\n",
       "      <td>2</td>\n",
       "      <td>0</td>\n",
       "      <td>?</td>\n",
       "      <td>?</td>\n",
       "      <td>E</td>\n",
       "      <td>?</td>\n",
       "      <td>?</td>\n",
       "      <td>Y</td>\n",
       "      <td>?</td>\n",
       "      <td>B</td>\n",
       "      <td>?</td>\n",
       "      <td>?</td>\n",
       "      <td>?</td>\n",
       "      <td>?</td>\n",
       "      <td>?</td>\n",
       "      <td>?</td>\n",
       "      <td>?</td>\n",
       "      <td>?</td>\n",
       "      <td>?</td>\n",
       "      <td>?</td>\n",
       "      <td>?</td>\n",
       "      <td>?</td>\n",
       "      <td>?</td>\n",
       "      <td>?</td>\n",
       "      <td>SHEET</td>\n",
       "      <td>0.700</td>\n",
       "      <td>1300.0</td>\n",
       "      <td>762</td>\n",
       "      <td>?</td>\n",
       "      <td>0</td>\n",
       "      <td>?</td>\n",
       "      <td>3</td>\n",
       "    </tr>\n",
       "    <tr>\n",
       "      <th>3</th>\n",
       "      <td>?</td>\n",
       "      <td>C</td>\n",
       "      <td>A</td>\n",
       "      <td>0</td>\n",
       "      <td>60</td>\n",
       "      <td>T</td>\n",
       "      <td>?</td>\n",
       "      <td>?</td>\n",
       "      <td>0</td>\n",
       "      <td>?</td>\n",
       "      <td>?</td>\n",
       "      <td>G</td>\n",
       "      <td>?</td>\n",
       "      <td>?</td>\n",
       "      <td>?</td>\n",
       "      <td>?</td>\n",
       "      <td>M</td>\n",
       "      <td>?</td>\n",
       "      <td>?</td>\n",
       "      <td>?</td>\n",
       "      <td>?</td>\n",
       "      <td>?</td>\n",
       "      <td>?</td>\n",
       "      <td>?</td>\n",
       "      <td>?</td>\n",
       "      <td>?</td>\n",
       "      <td>?</td>\n",
       "      <td>?</td>\n",
       "      <td>?</td>\n",
       "      <td>?</td>\n",
       "      <td>?</td>\n",
       "      <td>COIL</td>\n",
       "      <td>2.801</td>\n",
       "      <td>385.1</td>\n",
       "      <td>0</td>\n",
       "      <td>?</td>\n",
       "      <td>0</td>\n",
       "      <td>?</td>\n",
       "      <td>3</td>\n",
       "    </tr>\n",
       "    <tr>\n",
       "      <th>4</th>\n",
       "      <td>?</td>\n",
       "      <td>C</td>\n",
       "      <td>A</td>\n",
       "      <td>0</td>\n",
       "      <td>60</td>\n",
       "      <td>T</td>\n",
       "      <td>?</td>\n",
       "      <td>?</td>\n",
       "      <td>0</td>\n",
       "      <td>?</td>\n",
       "      <td>?</td>\n",
       "      <td>G</td>\n",
       "      <td>?</td>\n",
       "      <td>?</td>\n",
       "      <td>?</td>\n",
       "      <td>?</td>\n",
       "      <td>B</td>\n",
       "      <td>Y</td>\n",
       "      <td>?</td>\n",
       "      <td>?</td>\n",
       "      <td>?</td>\n",
       "      <td>Y</td>\n",
       "      <td>?</td>\n",
       "      <td>?</td>\n",
       "      <td>?</td>\n",
       "      <td>?</td>\n",
       "      <td>?</td>\n",
       "      <td>?</td>\n",
       "      <td>?</td>\n",
       "      <td>?</td>\n",
       "      <td>?</td>\n",
       "      <td>SHEET</td>\n",
       "      <td>0.801</td>\n",
       "      <td>255.0</td>\n",
       "      <td>269</td>\n",
       "      <td>?</td>\n",
       "      <td>0</td>\n",
       "      <td>?</td>\n",
       "      <td>3</td>\n",
       "    </tr>\n",
       "  </tbody>\n",
       "</table>\n",
       "</div>"
      ],
      "text/plain": [
       "  0  1  2   3   4  5  6  7   8   ... 30     31     32      33   34 35 36 37 38\n",
       "0  ?  C  A   8   0  ?  S  ?   0  ...  ?   COIL  0.700   610.0    0  ?  0  ?  3\n",
       "1  ?  C  R   0   0  ?  S  2   0  ...  ?   COIL  3.200   610.0    0  ?  0  ?  3\n",
       "2  ?  C  R   0   0  ?  S  2   0  ...  ?  SHEET  0.700  1300.0  762  ?  0  ?  3\n",
       "3  ?  C  A   0  60  T  ?  ?   0  ...  ?   COIL  2.801   385.1    0  ?  0  ?  3\n",
       "4  ?  C  A   0  60  T  ?  ?   0  ...  ?  SHEET  0.801   255.0  269  ?  0  ?  3\n",
       "\n",
       "[5 rows x 39 columns]"
      ]
     },
     "execution_count": 173,
     "metadata": {
      "tags": []
     },
     "output_type": "execute_result"
    }
   ],
   "source": [
    "#Load the dataset\n",
    "train = pd.read_csv('/content/drive/My Drive/机器学习/lab7/anneal.data',header=None)\n",
    "test = pd.read_csv('/content/drive/My Drive/机器学习/lab7/anneal.test',header=None)\n",
    "\n",
    "all_data = pd.concat([train, test], ignore_index = True, sort=False)\n",
    "\n",
    "#Print the first 5 rows of the dataframe.\n",
    "all_data.head()"
   ]
  },
  {
   "cell_type": "code",
   "execution_count": 0,
   "metadata": {
    "colab": {
     "base_uri": "https://localhost:8080/",
     "height": 34
    },
    "colab_type": "code",
    "executionInfo": {
     "elapsed": 49805,
     "status": "ok",
     "timestamp": 1588935027180,
     "user": {
      "displayName": "767293861@qq.com",
      "photoUrl": "",
      "userId": "14715229090956798740"
     },
     "user_tz": -480
    },
    "id": "MSRBK1obBZEh",
    "outputId": "1cdf5703-2b43-4736-88b6-c7b06fdd4f3a"
   },
   "outputs": [
    {
     "data": {
      "text/plain": [
       "(898, 39)"
      ]
     },
     "execution_count": 174,
     "metadata": {
      "tags": []
     },
     "output_type": "execute_result"
    }
   ],
   "source": [
    "#Let's observe the shape of the dataframe.\n",
    "all_data.shape"
   ]
  },
  {
   "cell_type": "code",
   "execution_count": 0,
   "metadata": {
    "colab": {
     "base_uri": "https://localhost:8080/",
     "height": 34
    },
    "colab_type": "code",
    "executionInfo": {
     "elapsed": 49798,
     "status": "ok",
     "timestamp": 1588935027181,
     "user": {
      "displayName": "767293861@qq.com",
      "photoUrl": "",
      "userId": "14715229090956798740"
     },
     "user_tz": -480
    },
    "id": "XbvEyZ83Bszr",
    "outputId": "0273d4ba-e12f-4881-e177-c2da92452857"
   },
   "outputs": [
    {
     "data": {
      "text/plain": [
       "(798, 39)"
      ]
     },
     "execution_count": 175,
     "metadata": {
      "tags": []
     },
     "output_type": "execute_result"
    }
   ],
   "source": [
    "train.shape"
   ]
  },
  {
   "cell_type": "code",
   "execution_count": 0,
   "metadata": {
    "colab": {
     "base_uri": "https://localhost:8080/",
     "height": 297
    },
    "colab_type": "code",
    "executionInfo": {
     "elapsed": 49790,
     "status": "ok",
     "timestamp": 1588935027181,
     "user": {
      "displayName": "767293861@qq.com",
      "photoUrl": "",
      "userId": "14715229090956798740"
     },
     "user_tz": -480
    },
    "id": "kM-UMq--EQk2",
    "outputId": "bb33ad44-0723-4cc5-b86e-4240ad0c4c28"
   },
   "outputs": [
    {
     "data": {
      "text/html": [
       "<div>\n",
       "<style scoped>\n",
       "    .dataframe tbody tr th:only-of-type {\n",
       "        vertical-align: middle;\n",
       "    }\n",
       "\n",
       "    .dataframe tbody tr th {\n",
       "        vertical-align: top;\n",
       "    }\n",
       "\n",
       "    .dataframe thead th {\n",
       "        text-align: right;\n",
       "    }\n",
       "</style>\n",
       "<table border=\"1\" class=\"dataframe\">\n",
       "  <thead>\n",
       "    <tr style=\"text-align: right;\">\n",
       "      <th></th>\n",
       "      <th>3</th>\n",
       "      <th>4</th>\n",
       "      <th>8</th>\n",
       "      <th>32</th>\n",
       "      <th>33</th>\n",
       "      <th>34</th>\n",
       "      <th>36</th>\n",
       "    </tr>\n",
       "  </thead>\n",
       "  <tbody>\n",
       "    <tr>\n",
       "      <th>count</th>\n",
       "      <td>898.000000</td>\n",
       "      <td>898.000000</td>\n",
       "      <td>898.000000</td>\n",
       "      <td>898.000000</td>\n",
       "      <td>898.000000</td>\n",
       "      <td>898.000000</td>\n",
       "      <td>898.000000</td>\n",
       "    </tr>\n",
       "    <tr>\n",
       "      <th>mean</th>\n",
       "      <td>3.634744</td>\n",
       "      <td>11.776169</td>\n",
       "      <td>30.668151</td>\n",
       "      <td>1.198549</td>\n",
       "      <td>780.653341</td>\n",
       "      <td>1263.094655</td>\n",
       "      <td>28.173719</td>\n",
       "    </tr>\n",
       "    <tr>\n",
       "      <th>std</th>\n",
       "      <td>13.716845</td>\n",
       "      <td>24.750528</td>\n",
       "      <td>114.956243</td>\n",
       "      <td>0.871208</td>\n",
       "      <td>405.345688</td>\n",
       "      <td>1871.399107</td>\n",
       "      <td>124.560341</td>\n",
       "    </tr>\n",
       "    <tr>\n",
       "      <th>min</th>\n",
       "      <td>0.000000</td>\n",
       "      <td>0.000000</td>\n",
       "      <td>0.000000</td>\n",
       "      <td>0.240000</td>\n",
       "      <td>0.000000</td>\n",
       "      <td>0.000000</td>\n",
       "      <td>0.000000</td>\n",
       "    </tr>\n",
       "    <tr>\n",
       "      <th>25%</th>\n",
       "      <td>0.000000</td>\n",
       "      <td>0.000000</td>\n",
       "      <td>0.000000</td>\n",
       "      <td>0.601000</td>\n",
       "      <td>609.900000</td>\n",
       "      <td>0.000000</td>\n",
       "      <td>0.000000</td>\n",
       "    </tr>\n",
       "    <tr>\n",
       "      <th>50%</th>\n",
       "      <td>0.000000</td>\n",
       "      <td>0.000000</td>\n",
       "      <td>0.000000</td>\n",
       "      <td>0.800000</td>\n",
       "      <td>610.000000</td>\n",
       "      <td>611.000000</td>\n",
       "      <td>0.000000</td>\n",
       "    </tr>\n",
       "    <tr>\n",
       "      <th>75%</th>\n",
       "      <td>0.000000</td>\n",
       "      <td>0.000000</td>\n",
       "      <td>0.000000</td>\n",
       "      <td>1.600000</td>\n",
       "      <td>1250.000000</td>\n",
       "      <td>762.000000</td>\n",
       "      <td>0.000000</td>\n",
       "    </tr>\n",
       "    <tr>\n",
       "      <th>max</th>\n",
       "      <td>70.000000</td>\n",
       "      <td>85.000000</td>\n",
       "      <td>700.000000</td>\n",
       "      <td>4.000000</td>\n",
       "      <td>1525.000000</td>\n",
       "      <td>4880.000000</td>\n",
       "      <td>600.000000</td>\n",
       "    </tr>\n",
       "  </tbody>\n",
       "</table>\n",
       "</div>"
      ],
      "text/plain": [
       "               3           4           8   ...           33           34          36\n",
       "count  898.000000  898.000000  898.000000  ...   898.000000   898.000000  898.000000\n",
       "mean     3.634744   11.776169   30.668151  ...   780.653341  1263.094655   28.173719\n",
       "std     13.716845   24.750528  114.956243  ...   405.345688  1871.399107  124.560341\n",
       "min      0.000000    0.000000    0.000000  ...     0.000000     0.000000    0.000000\n",
       "25%      0.000000    0.000000    0.000000  ...   609.900000     0.000000    0.000000\n",
       "50%      0.000000    0.000000    0.000000  ...   610.000000   611.000000    0.000000\n",
       "75%      0.000000    0.000000    0.000000  ...  1250.000000   762.000000    0.000000\n",
       "max     70.000000   85.000000  700.000000  ...  1525.000000  4880.000000  600.000000\n",
       "\n",
       "[8 rows x 7 columns]"
      ]
     },
     "execution_count": 176,
     "metadata": {
      "tags": []
     },
     "output_type": "execute_result"
    }
   ],
   "source": [
    "all_data.describe()"
   ]
  },
  {
   "cell_type": "code",
   "execution_count": 0,
   "metadata": {
    "colab": {
     "base_uri": "https://localhost:8080/",
     "height": 119
    },
    "colab_type": "code",
    "executionInfo": {
     "elapsed": 49781,
     "status": "ok",
     "timestamp": 1588935027182,
     "user": {
      "displayName": "767293861@qq.com",
      "photoUrl": "",
      "userId": "14715229090956798740"
     },
     "user_tz": -480
    },
    "id": "33cSbOEKFf_0",
    "outputId": "5e17242c-0619-4662-f29b-c60616da4849"
   },
   "outputs": [
    {
     "data": {
      "text/plain": [
       "3    684\n",
       "2     99\n",
       "5     67\n",
       "U     40\n",
       "1      8\n",
       "Name: 38, dtype: int64"
      ]
     },
     "execution_count": 177,
     "metadata": {
      "tags": []
     },
     "output_type": "execute_result"
    }
   ],
   "source": [
    "all_data.iloc[:,38].value_counts()"
   ]
  },
  {
   "cell_type": "code",
   "execution_count": 0,
   "metadata": {
    "colab": {
     "base_uri": "https://localhost:8080/",
     "height": 1000
    },
    "colab_type": "code",
    "executionInfo": {
     "elapsed": 49770,
     "status": "ok",
     "timestamp": 1588935027182,
     "user": {
      "displayName": "767293861@qq.com",
      "photoUrl": "",
      "userId": "14715229090956798740"
     },
     "user_tz": -480
    },
    "id": "cgS7FJqcN4OK",
    "outputId": "03d277b8-3c5d-46f5-deda-1d0ff98c65ad"
   },
   "outputs": [
    {
     "name": "stdout",
     "output_type": "stream",
     "text": [
      "Feature No.0\n",
      "?     772\n",
      "TN     67\n",
      "ZS     59\n",
      "Name: 0, dtype: int64\n",
      "Feature No.1\n",
      "C    898\n",
      "Name: 1, dtype: int64\n",
      "Feature No.2\n",
      "A    440\n",
      "R    256\n",
      "?     86\n",
      "K     51\n",
      "M     20\n",
      "W     19\n",
      "V     16\n",
      "S     10\n",
      "Name: 2, dtype: int64\n",
      "Feature No.3\n",
      "0     821\n",
      "55     19\n",
      "45     17\n",
      "65     15\n",
      "6      11\n",
      "70      5\n",
      "4       4\n",
      "8       3\n",
      "10      2\n",
      "3       1\n",
      "Name: 3, dtype: int64\n",
      "Feature No.4\n",
      "0     721\n",
      "45     58\n",
      "85     35\n",
      "50     34\n",
      "60     26\n",
      "70     19\n",
      "80      5\n",
      "Name: 4, dtype: int64\n",
      "Feature No.5\n",
      "?    761\n",
      "T    137\n",
      "Name: 5, dtype: int64\n",
      "Feature No.6\n",
      "S    555\n",
      "?    303\n",
      "A     40\n",
      "Name: 6, dtype: int64\n",
      "Feature No.7\n",
      "2    378\n",
      "?    318\n",
      "3    143\n",
      "1     48\n",
      "5     11\n",
      "Name: 7, dtype: int64\n",
      "Feature No.8\n",
      "0      834\n",
      "310     19\n",
      "500     18\n",
      "600     11\n",
      "350      9\n",
      "400      4\n",
      "300      2\n",
      "700      1\n",
      "Name: 8, dtype: int64\n",
      "Feature No.9\n",
      "?    793\n",
      "N    105\n",
      "Name: 9, dtype: int64\n",
      "Feature No.10\n",
      "?    889\n",
      "P      9\n",
      "Name: 10, dtype: int64\n",
      "Feature No.11\n",
      "E    310\n",
      "?    244\n",
      "G    229\n",
      "F     60\n",
      "D     55\n",
      "Name: 11, dtype: int64\n",
      "Feature No.12\n",
      "?    882\n",
      "2     10\n",
      "1      6\n",
      "Name: 12, dtype: int64\n",
      "Feature No.13\n",
      "?    897\n",
      "Y      1\n",
      "Name: 13, dtype: int64\n",
      "Feature No.14\n",
      "?    769\n",
      "Y    129\n",
      "Name: 14, dtype: int64\n",
      "Feature No.15\n",
      "?    824\n",
      "Y     74\n",
      "Name: 15, dtype: int64\n",
      "Feature No.16\n",
      "?    687\n",
      "B    159\n",
      "M     52\n",
      "Name: 16, dtype: int64\n",
      "Feature No.17\n",
      "?    749\n",
      "Y    149\n",
      "Name: 17, dtype: int64\n",
      "Feature No.18\n",
      "?    898\n",
      "Name: 18, dtype: int64\n",
      "Feature No.19\n",
      "?    872\n",
      "C     26\n",
      "Name: 19, dtype: int64\n",
      "Feature No.20\n",
      "?    891\n",
      "P      7\n",
      "Name: 20, dtype: int64\n",
      "Feature No.21\n",
      "?    824\n",
      "Y     74\n",
      "Name: 21, dtype: int64\n",
      "Feature No.22\n",
      "?    898\n",
      "Name: 22, dtype: int64\n",
      "Feature No.23\n",
      "?    896\n",
      "Y      2\n",
      "Name: 23, dtype: int64\n",
      "Feature No.24\n",
      "?    868\n",
      "Y     30\n",
      "Name: 24, dtype: int64\n",
      "Feature No.25\n",
      "?    898\n",
      "Name: 25, dtype: int64\n",
      "Feature No.26\n",
      "?    892\n",
      "B      4\n",
      "C      1\n",
      "V      1\n",
      "Name: 26, dtype: int64\n",
      "Feature No.27\n",
      "?    847\n",
      "Y     51\n",
      "Name: 27, dtype: int64\n",
      "Feature No.28\n",
      "?    898\n",
      "Name: 28, dtype: int64\n",
      "Feature No.29\n",
      "?    898\n",
      "Name: 29, dtype: int64\n",
      "Feature No.30\n",
      "?    898\n",
      "Name: 30, dtype: int64\n",
      "Feature No.31\n",
      "SHEET    486\n",
      "COIL     412\n",
      "Name: 31, dtype: int64\n",
      "Feature No.32\n",
      "0.700    90\n",
      "1.600    90\n",
      "0.699    87\n",
      "0.600    83\n",
      "0.800    71\n",
      "3.200    59\n",
      "0.300    44\n",
      "1.200    39\n",
      "0.400    37\n",
      "1.599    34\n",
      "1.000    31\n",
      "0.601    21\n",
      "2.000    18\n",
      "0.500    16\n",
      "4.000    14\n",
      "2.500    14\n",
      "1.601    12\n",
      "0.301    12\n",
      "0.799    11\n",
      "1.201     9\n",
      "0.900     9\n",
      "3.201     9\n",
      "2.300     7\n",
      "0.801     7\n",
      "1.500     7\n",
      "1.001     6\n",
      "0.999     6\n",
      "2.801     5\n",
      "2.200     5\n",
      "1.090     5\n",
      "0.599     5\n",
      "0.451     4\n",
      "0.321     3\n",
      "3.500     3\n",
      "1.100     3\n",
      "1.399     2\n",
      "0.750     2\n",
      "0.901     2\n",
      "2.501     2\n",
      "1.299     2\n",
      "1.400     2\n",
      "1.300     2\n",
      "3.000     1\n",
      "0.501     1\n",
      "2.800     1\n",
      "1.900     1\n",
      "0.651     1\n",
      "0.240     1\n",
      "3.300     1\n",
      "0.250     1\n",
      "Name: 32, dtype: int64\n",
      "Feature No.33\n",
      "610.0     278\n",
      "1320.0    155\n",
      "609.9      93\n",
      "1220.0     49\n",
      "1300.0     30\n",
      "         ... \n",
      "29.0        1\n",
      "190.0       1\n",
      "915.0       1\n",
      "28.0        1\n",
      "450.0       1\n",
      "Name: 33, Length: 68, dtype: int64\n",
      "Feature No.34\n",
      "0       417\n",
      "762     172\n",
      "4880    157\n",
      "612      35\n",
      "4170     34\n",
      "761      23\n",
      "3000      9\n",
      "301       7\n",
      "1         6\n",
      "150       6\n",
      "1220      5\n",
      "611       5\n",
      "881       4\n",
      "300       3\n",
      "270       2\n",
      "269       2\n",
      "1000      2\n",
      "759       2\n",
      "760       2\n",
      "400       1\n",
      "614       1\n",
      "4120      1\n",
      "880       1\n",
      "610       1\n",
      "Name: 34, dtype: int64\n",
      "Feature No.35\n",
      "?    834\n",
      "Y     42\n",
      "N     22\n",
      "Name: 35, dtype: int64\n",
      "Feature No.36\n",
      "0      854\n",
      "600     33\n",
      "500     11\n",
      "Name: 36, dtype: int64\n",
      "Feature No.37\n",
      "?    889\n",
      "3      8\n",
      "2      1\n",
      "Name: 37, dtype: int64\n"
     ]
    }
   ],
   "source": [
    "for i in range(38):\n",
    "  print(\"Feature No.\"+str(i))\n",
    "  print(all_data.iloc[:,i].value_counts())"
   ]
  },
  {
   "cell_type": "markdown",
   "metadata": {
    "colab_type": "text",
    "id": "BpRxumXR5L2j"
   },
   "source": [
    "## Feature Selection"
   ]
  },
  {
   "cell_type": "code",
   "execution_count": 0,
   "metadata": {
    "colab": {
     "base_uri": "https://localhost:8080/",
     "height": 204
    },
    "colab_type": "code",
    "executionInfo": {
     "elapsed": 49762,
     "status": "ok",
     "timestamp": 1588935027183,
     "user": {
      "displayName": "767293861@qq.com",
      "photoUrl": "",
      "userId": "14715229090956798740"
     },
     "user_tz": -480
    },
    "id": "Kqbk80SyGXlA",
    "outputId": "c8d4c3bd-374a-4e34-9ece-d8d0655f8b88"
   },
   "outputs": [
    {
     "data": {
      "text/html": [
       "<div>\n",
       "<style scoped>\n",
       "    .dataframe tbody tr th:only-of-type {\n",
       "        vertical-align: middle;\n",
       "    }\n",
       "\n",
       "    .dataframe tbody tr th {\n",
       "        vertical-align: top;\n",
       "    }\n",
       "\n",
       "    .dataframe thead th {\n",
       "        text-align: right;\n",
       "    }\n",
       "</style>\n",
       "<table border=\"1\" class=\"dataframe\">\n",
       "  <thead>\n",
       "    <tr style=\"text-align: right;\">\n",
       "      <th></th>\n",
       "      <th>2</th>\n",
       "      <th>3</th>\n",
       "      <th>4</th>\n",
       "      <th>8</th>\n",
       "      <th>31</th>\n",
       "      <th>32</th>\n",
       "      <th>33</th>\n",
       "      <th>34</th>\n",
       "      <th>36</th>\n",
       "    </tr>\n",
       "  </thead>\n",
       "  <tbody>\n",
       "    <tr>\n",
       "      <th>0</th>\n",
       "      <td>A</td>\n",
       "      <td>8</td>\n",
       "      <td>0</td>\n",
       "      <td>0</td>\n",
       "      <td>COIL</td>\n",
       "      <td>0.700</td>\n",
       "      <td>610.0</td>\n",
       "      <td>0</td>\n",
       "      <td>0</td>\n",
       "    </tr>\n",
       "    <tr>\n",
       "      <th>1</th>\n",
       "      <td>R</td>\n",
       "      <td>0</td>\n",
       "      <td>0</td>\n",
       "      <td>0</td>\n",
       "      <td>COIL</td>\n",
       "      <td>3.200</td>\n",
       "      <td>610.0</td>\n",
       "      <td>0</td>\n",
       "      <td>0</td>\n",
       "    </tr>\n",
       "    <tr>\n",
       "      <th>2</th>\n",
       "      <td>R</td>\n",
       "      <td>0</td>\n",
       "      <td>0</td>\n",
       "      <td>0</td>\n",
       "      <td>SHEET</td>\n",
       "      <td>0.700</td>\n",
       "      <td>1300.0</td>\n",
       "      <td>762</td>\n",
       "      <td>0</td>\n",
       "    </tr>\n",
       "    <tr>\n",
       "      <th>3</th>\n",
       "      <td>A</td>\n",
       "      <td>0</td>\n",
       "      <td>60</td>\n",
       "      <td>0</td>\n",
       "      <td>COIL</td>\n",
       "      <td>2.801</td>\n",
       "      <td>385.1</td>\n",
       "      <td>0</td>\n",
       "      <td>0</td>\n",
       "    </tr>\n",
       "    <tr>\n",
       "      <th>4</th>\n",
       "      <td>A</td>\n",
       "      <td>0</td>\n",
       "      <td>60</td>\n",
       "      <td>0</td>\n",
       "      <td>SHEET</td>\n",
       "      <td>0.801</td>\n",
       "      <td>255.0</td>\n",
       "      <td>269</td>\n",
       "      <td>0</td>\n",
       "    </tr>\n",
       "  </tbody>\n",
       "</table>\n",
       "</div>"
      ],
      "text/plain": [
       "  2   3   4   8      31     32      33   34  36\n",
       "0  A   8   0   0   COIL  0.700   610.0    0   0\n",
       "1  R   0   0   0   COIL  3.200   610.0    0   0\n",
       "2  R   0   0   0  SHEET  0.700  1300.0  762   0\n",
       "3  A   0  60   0   COIL  2.801   385.1    0   0\n",
       "4  A   0  60   0  SHEET  0.801   255.0  269   0"
      ]
     },
     "execution_count": 179,
     "metadata": {
      "tags": []
     },
     "output_type": "execute_result"
    }
   ],
   "source": [
    "X = pd.concat([all_data.iloc[:,2:5],all_data.iloc[:,8],all_data.iloc[:,31:35],all_data.iloc[:,36]], axis=1, sort=False)\n",
    "y = all_data.iloc[:,38]\n",
    "X.head()"
   ]
  },
  {
   "cell_type": "markdown",
   "metadata": {
    "colab_type": "text",
    "id": "8HhfznIdfP9y"
   },
   "source": [
    "### Feature conversion\n",
    "Select features, convert to numerical variables, and divide the training set and test set."
   ]
  },
  {
   "cell_type": "code",
   "execution_count": 0,
   "metadata": {
    "colab": {
     "base_uri": "https://localhost:8080/",
     "height": 204
    },
    "colab_type": "code",
    "executionInfo": {
     "elapsed": 49755,
     "status": "ok",
     "timestamp": 1588935027184,
     "user": {
      "displayName": "767293861@qq.com",
      "photoUrl": "",
      "userId": "14715229090956798740"
     },
     "user_tz": -480
    },
    "id": "G1SSYnNRR2vf",
    "outputId": "f031ad80-22c2-421d-f59c-78117e0db63f"
   },
   "outputs": [
    {
     "data": {
      "text/html": [
       "<div>\n",
       "<style scoped>\n",
       "    .dataframe tbody tr th:only-of-type {\n",
       "        vertical-align: middle;\n",
       "    }\n",
       "\n",
       "    .dataframe tbody tr th {\n",
       "        vertical-align: top;\n",
       "    }\n",
       "\n",
       "    .dataframe thead th {\n",
       "        text-align: right;\n",
       "    }\n",
       "</style>\n",
       "<table border=\"1\" class=\"dataframe\">\n",
       "  <thead>\n",
       "    <tr style=\"text-align: right;\">\n",
       "      <th></th>\n",
       "      <th>3</th>\n",
       "      <th>4</th>\n",
       "      <th>8</th>\n",
       "      <th>32</th>\n",
       "      <th>33</th>\n",
       "      <th>34</th>\n",
       "      <th>36</th>\n",
       "      <th>2_?</th>\n",
       "      <th>2_A</th>\n",
       "      <th>2_K</th>\n",
       "      <th>2_M</th>\n",
       "      <th>2_R</th>\n",
       "      <th>2_S</th>\n",
       "      <th>2_V</th>\n",
       "      <th>2_W</th>\n",
       "      <th>31_COIL</th>\n",
       "      <th>31_SHEET</th>\n",
       "    </tr>\n",
       "  </thead>\n",
       "  <tbody>\n",
       "    <tr>\n",
       "      <th>0</th>\n",
       "      <td>8</td>\n",
       "      <td>0</td>\n",
       "      <td>0</td>\n",
       "      <td>0.700</td>\n",
       "      <td>610.0</td>\n",
       "      <td>0</td>\n",
       "      <td>0</td>\n",
       "      <td>0</td>\n",
       "      <td>1</td>\n",
       "      <td>0</td>\n",
       "      <td>0</td>\n",
       "      <td>0</td>\n",
       "      <td>0</td>\n",
       "      <td>0</td>\n",
       "      <td>0</td>\n",
       "      <td>1</td>\n",
       "      <td>0</td>\n",
       "    </tr>\n",
       "    <tr>\n",
       "      <th>1</th>\n",
       "      <td>0</td>\n",
       "      <td>0</td>\n",
       "      <td>0</td>\n",
       "      <td>3.200</td>\n",
       "      <td>610.0</td>\n",
       "      <td>0</td>\n",
       "      <td>0</td>\n",
       "      <td>0</td>\n",
       "      <td>0</td>\n",
       "      <td>0</td>\n",
       "      <td>0</td>\n",
       "      <td>1</td>\n",
       "      <td>0</td>\n",
       "      <td>0</td>\n",
       "      <td>0</td>\n",
       "      <td>1</td>\n",
       "      <td>0</td>\n",
       "    </tr>\n",
       "    <tr>\n",
       "      <th>2</th>\n",
       "      <td>0</td>\n",
       "      <td>0</td>\n",
       "      <td>0</td>\n",
       "      <td>0.700</td>\n",
       "      <td>1300.0</td>\n",
       "      <td>762</td>\n",
       "      <td>0</td>\n",
       "      <td>0</td>\n",
       "      <td>0</td>\n",
       "      <td>0</td>\n",
       "      <td>0</td>\n",
       "      <td>1</td>\n",
       "      <td>0</td>\n",
       "      <td>0</td>\n",
       "      <td>0</td>\n",
       "      <td>0</td>\n",
       "      <td>1</td>\n",
       "    </tr>\n",
       "    <tr>\n",
       "      <th>3</th>\n",
       "      <td>0</td>\n",
       "      <td>60</td>\n",
       "      <td>0</td>\n",
       "      <td>2.801</td>\n",
       "      <td>385.1</td>\n",
       "      <td>0</td>\n",
       "      <td>0</td>\n",
       "      <td>0</td>\n",
       "      <td>1</td>\n",
       "      <td>0</td>\n",
       "      <td>0</td>\n",
       "      <td>0</td>\n",
       "      <td>0</td>\n",
       "      <td>0</td>\n",
       "      <td>0</td>\n",
       "      <td>1</td>\n",
       "      <td>0</td>\n",
       "    </tr>\n",
       "    <tr>\n",
       "      <th>4</th>\n",
       "      <td>0</td>\n",
       "      <td>60</td>\n",
       "      <td>0</td>\n",
       "      <td>0.801</td>\n",
       "      <td>255.0</td>\n",
       "      <td>269</td>\n",
       "      <td>0</td>\n",
       "      <td>0</td>\n",
       "      <td>1</td>\n",
       "      <td>0</td>\n",
       "      <td>0</td>\n",
       "      <td>0</td>\n",
       "      <td>0</td>\n",
       "      <td>0</td>\n",
       "      <td>0</td>\n",
       "      <td>0</td>\n",
       "      <td>1</td>\n",
       "    </tr>\n",
       "  </tbody>\n",
       "</table>\n",
       "</div>"
      ],
      "text/plain": [
       "   3   4  8     32      33   34  36  ...  2_M  2_R  2_S  2_V  2_W  31_COIL  31_SHEET\n",
       "0  8   0  0  0.700   610.0    0   0  ...    0    0    0    0    0        1         0\n",
       "1  0   0  0  3.200   610.0    0   0  ...    0    1    0    0    0        1         0\n",
       "2  0   0  0  0.700  1300.0  762   0  ...    0    1    0    0    0        0         1\n",
       "3  0  60  0  2.801   385.1    0   0  ...    0    0    0    0    0        1         0\n",
       "4  0  60  0  0.801   255.0  269   0  ...    0    0    0    0    0        0         1\n",
       "\n",
       "[5 rows x 17 columns]"
      ]
     },
     "execution_count": 180,
     "metadata": {
      "tags": []
     },
     "output_type": "execute_result"
    }
   ],
   "source": [
    "X_new=pd.get_dummies(X)\n",
    "X_new.head()"
   ]
  },
  {
   "cell_type": "code",
   "execution_count": 0,
   "metadata": {
    "colab": {},
    "colab_type": "code",
    "id": "aWODEjXpVp1e"
   },
   "outputs": [],
   "source": [
    "y = y.values\n",
    "for i,val in enumerate(y):\n",
    "    if val == '3':\n",
    "        y[i] = 0\n",
    "    else:\n",
    "        y[i] = 1\n",
    "y = y.astype('int')"
   ]
  },
  {
   "cell_type": "code",
   "execution_count": 0,
   "metadata": {
    "colab": {},
    "colab_type": "code",
    "id": "_ADLzx9jWbZz"
   },
   "outputs": [],
   "source": [
    "X_train = X_new.iloc[0:798,:].values\n",
    "X_test = X_new.iloc[798:,:].values\n",
    "y_train = y[0:798]\n",
    "y_test = y[798:]"
   ]
  },
  {
   "cell_type": "markdown",
   "metadata": {
    "colab_type": "text",
    "id": "2i6w4fDCNqq6"
   },
   "source": [
    "## Draw histograms for features"
   ]
  },
  {
   "cell_type": "code",
   "execution_count": 0,
   "metadata": {
    "colab": {
     "base_uri": "https://localhost:8080/",
     "height": 663
    },
    "colab_type": "code",
    "executionInfo": {
     "elapsed": 49724,
     "status": "ok",
     "timestamp": 1588935027185,
     "user": {
      "displayName": "767293861@qq.com",
      "photoUrl": "",
      "userId": "14715229090956798740"
     },
     "user_tz": -480
    },
    "id": "25UWyH7WX_tf",
    "outputId": "e4e539cf-35c1-43ca-9d55-77f9eb8a2d93"
   },
   "outputs": [
    {
     "data": {
      "image/png": "[encoded data removed]",
      "text/plain": [
       "<Figure size 1440x720 with 8 Axes>"
      ]
     },
     "metadata": {
      "tags": []
     },
     "output_type": "display_data"
    }
   ],
   "source": [
    "X = X.values\n",
    "plt.figure(figsize=(20, 10))\n",
    "plt.subplot(241)\n",
    "plt.hist(X[:,0])\n",
    "plt.subplot(242)\n",
    "plt.hist(X[:,1])\n",
    "plt.subplot(243)\n",
    "plt.hist(X[:,2])\n",
    "plt.subplot(244)\n",
    "plt.hist(X[:,3])\n",
    "\n",
    "plt.subplot(245)\n",
    "plt.hist(X[:,4])\n",
    "plt.subplot(246)\n",
    "plt.hist(X[:,5])\n",
    "plt.subplot(247)\n",
    "plt.hist(X[:,6])\n",
    "plt.subplot(248)\n",
    "plt.hist(X[:,7])\n",
    "plt.suptitle('Histograms for Features')\n",
    "plt.show()"
   ]
  },
  {
   "cell_type": "code",
   "execution_count": 0,
   "metadata": {
    "colab": {
     "base_uri": "https://localhost:8080/",
     "height": 663
    },
    "colab_type": "code",
    "executionInfo": {
     "elapsed": 53469,
     "status": "ok",
     "timestamp": 1588935030947,
     "user": {
      "displayName": "767293861@qq.com",
      "photoUrl": "",
      "userId": "14715229090956798740"
     },
     "user_tz": -480
    },
    "id": "tJ4GwGQuYnOD",
    "outputId": "a8c314af-a5ad-4bc7-d869-6b7894d3ed59",
    "scrolled": true
   },
   "outputs": [
    {
     "data": {
      "image/png": "[encoded data removed]",
      "text/plain": [
       "<Figure size 1440x720 with 8 Axes>"
      ]
     },
     "metadata": {
      "tags": []
     },
     "output_type": "display_data"
    }
   ],
   "source": [
    "plt.figure(figsize=(20, 10))\n",
    "plt.subplot(241)\n",
    "plt.scatter(X[:,0],y)\n",
    "plt.subplot(242)\n",
    "plt.scatter(X[:,1],y)\n",
    "plt.subplot(243)\n",
    "plt.scatter(X[:,2],y)\n",
    "plt.subplot(244)\n",
    "plt.scatter(X[:,3],y)\n",
    "plt.subplot(245)\n",
    "plt.scatter(X[:,4],y)\n",
    "plt.subplot(246)\n",
    "plt.scatter(X[:,5],y)\n",
    "plt.subplot(247)\n",
    "plt.scatter(X[:,6],y)\n",
    "plt.subplot(248)\n",
    "plt.scatter(X[:,7],y)\n",
    "plt.suptitle('scatter plot matrix of features')\n",
    "plt.show()"
   ]
  },
  {
   "cell_type": "markdown",
   "metadata": {
    "colab_type": "text",
    "id": "0tT6rD8f2hLt"
   },
   "source": [
    "## Training"
   ]
  },
  {
   "cell_type": "code",
   "execution_count": 0,
   "metadata": {
    "colab": {
     "base_uri": "https://localhost:8080/",
     "height": 85
    },
    "colab_type": "code",
    "executionInfo": {
     "elapsed": 1365,
     "status": "ok",
     "timestamp": 1588935541463,
     "user": {
      "displayName": "767293861@qq.com",
      "photoUrl": "",
      "userId": "14715229090956798740"
     },
     "user_tz": -480
    },
    "id": "XOg4iu3u615q",
    "outputId": "4ce654a4-08a5-4254-bb8c-a445b2dbe9a6"
   },
   "outputs": [
    {
     "data": {
      "text/plain": [
       "GaussianMixture(covariance_type='spherical', init_params='kmeans', max_iter=100,\n",
       "                means_init=None, n_components=2, n_init=1, precisions_init=None,\n",
       "                random_state=None, reg_covar=1e-06, tol=0.001, verbose=0,\n",
       "                verbose_interval=10, warm_start=False, weights_init=None)"
      ]
     },
     "execution_count": 201,
     "metadata": {
      "tags": []
     },
     "output_type": "execute_result"
    }
   ],
   "source": [
    "best_gmm = mixture.GaussianMixture(n_components=2,covariance_type='spherical')\n",
    "best_gmm.fit(X_train)"
   ]
  },
  {
   "cell_type": "code",
   "execution_count": 0,
   "metadata": {
    "colab": {
     "base_uri": "https://localhost:8080/",
     "height": 286
    },
    "colab_type": "code",
    "executionInfo": {
     "elapsed": 1578,
     "status": "ok",
     "timestamp": 1588935602042,
     "user": {
      "displayName": "767293861@qq.com",
      "photoUrl": "",
      "userId": "14715229090956798740"
     },
     "user_tz": -480
    },
    "id": "djh6rJxsyxMU",
    "outputId": "a12ca7ca-c02f-49f8-cb10-b56a607d6f85"
   },
   "outputs": [
    {
     "data": {
      "text/plain": [
       "Text(0.5, 1.0, 'Hel')"
      ]
     },
     "execution_count": 203,
     "metadata": {
      "tags": []
     },
     "output_type": "execute_result"
    },
    {
     "data": {
      "image/png": "[encoded data removed]",
      "text/plain": [
       "<Figure size 432x288 with 1 Axes>"
      ]
     },
     "metadata": {
      "tags": []
     },
     "output_type": "display_data"
    }
   ],
   "source": [
    "y_train_pred = best_gmm.predict(X_train)\n",
    "train_accuracy = np.mean(y_train_pred.ravel() == y_train.ravel()) * 100\n",
    "plt.text(0.05, 0.9, 'Train accuracy: %.1f' % train_accuracy)\n",
    "\n",
    "y_test_pred = best_gmm.predict(X_test)\n",
    "test_accuracy = np.mean(y_test_pred.ravel() == y_test.ravel()) * 100\n",
    "plt.text(0.05, 0.8, 'Test accuracy: %.1f' % test_accuracy)\n",
    "\n",
    "plt.xticks(())\n",
    "plt.yticks(())\n",
    "plt.title(\"Hel\")"
   ]
  },
  {
   "cell_type": "code",
   "execution_count": 0,
   "metadata": {
    "colab": {
     "base_uri": "https://localhost:8080/",
     "height": 170
    },
    "colab_type": "code",
    "executionInfo": {
     "elapsed": 53405,
     "status": "ok",
     "timestamp": 1588935030949,
     "user": {
      "displayName": "767293861@qq.com",
      "photoUrl": "",
      "userId": "14715229090956798740"
     },
     "user_tz": -480
    },
    "id": "GnDQb4UkzNjv",
    "outputId": "a1c6f112-3e08-40df-edac-6de3c4a75980"
   },
   "outputs": [
    {
     "name": "stderr",
     "output_type": "stream",
     "text": [
      "/usr/local/lib/python3.6/dist-packages/sklearn/linear_model/_logistic.py:940: ConvergenceWarning: lbfgs failed to converge (status=1):\n",
      "STOP: TOTAL NO. of ITERATIONS REACHED LIMIT.\n",
      "\n",
      "Increase the number of iterations (max_iter) or scale the data as shown in:\n",
      "    https://scikit-learn.org/stable/modules/preprocessing.html\n",
      "Please also refer to the documentation for alternative solver options:\n",
      "    https://scikit-learn.org/stable/modules/linear_model.html#logistic-regression\n",
      "  extra_warning_msg=_LOGISTIC_SOLVER_CONVERGENCE_MSG)\n"
     ]
    },
    {
     "data": {
      "text/plain": [
       "0.76"
      ]
     },
     "execution_count": 187,
     "metadata": {
      "tags": []
     },
     "output_type": "execute_result"
    }
   ],
   "source": [
    "from sklearn.linear_model import LogisticRegression\n",
    "\n",
    "clf = LogisticRegression(multi_class='multinomial').fit(X_train, y_train)\n",
    "clf.score(X_test, y_test)"
   ]
  },
  {
   "cell_type": "markdown",
   "metadata": {
    "colab_type": "text",
    "id": "ueXv0rmapq0f"
   },
   "source": [
    "# Report\n"
   ]
  },
  {
   "cell_type": "markdown",
   "metadata": {
    "colab_type": "text",
    "id": "rD9lI-rwHPrx"
   },
   "source": [
    "## Q: What features are most useful for solving the problem and why, how features are distributed in the data:  \n",
    "\n"
   ]
  },
  {
   "cell_type": "markdown",
   "metadata": {
    "colab_type": "text",
    "id": "DorZDlVsHxrZ"
   },
   "source": [
    "First, I removed the features with low variance, for example, a feature is mostly 0, then this feature is meaningless.\n",
    "Secondly, some vacant data is meaningless.\n",
    "Finally, the chi-square test is used to test the correlation of qualitative independent variables to qualitative dependent variables, leaving only the top 10 features that are closely related to the label."
   ]
  },
  {
   "cell_type": "markdown",
   "metadata": {
    "colab_type": "text",
    "id": "3gFyr1p9Hke_"
   },
   "source": [
    "## Q: Try to change parameters of training to achieve better results"
   ]
  },
  {
   "cell_type": "markdown",
   "metadata": {
    "colab_type": "text",
    "id": "ujGYRy6UJAye"
   },
   "source": [
    "At first, the accuracy is very low, only about 60%. It is observed that there are too many data with y label 1, and there are few other 15 categories. Therefore, the other 15 categories are combined into two categories, and all data are divided into three categories for classification. And use LogisticRegression to classify, the accuracy can reach 73%."
   ]
  }
 ],
 "metadata": {
  "colab": {
   "authorship_tag": "ABX9TyO3gPLtnAGy5GdAh2vv3raa",
   "mount_file_id": "1Y5a1LMzdaSsxm7wb3_xlyotC0Xfl25kG",
   "name": "ML_lab7.ipynb",
   "provenance": []
  },
  "kernelspec": {
   "display_name": "Python 3",
   "language": "python",
   "name": "python3"
  },
  "language_info": {
   "codemirror_mode": {
    "name": "ipython",
    "version": 3
   },
   "file_extension": ".py",
   "mimetype": "text/x-python",
   "name": "python",
   "nbconvert_exporter": "python",
   "pygments_lexer": "ipython3",
   "version": "3.7.4"
  },
  "toc": {
   "base_numbering": 1,
   "nav_menu": {},
   "number_sections": true,
   "sideBar": true,
   "skip_h1_title": false,
   "title_cell": "Table of Contents",
   "title_sidebar": "Contents",
   "toc_cell": false,
   "toc_position": {},
   "toc_section_display": true,
   "toc_window_display": false
  }
 },
 "nbformat": 4,
 "nbformat_minor": 1
}
